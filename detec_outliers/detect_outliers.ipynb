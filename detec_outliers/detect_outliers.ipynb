{
 "cells": [
  {
   "cell_type": "markdown",
   "id": "66b5791a",
   "metadata": {},
   "source": [
    "# Detección de Outliers"
   ]
  },
  {
   "cell_type": "code",
   "execution_count": 1,
   "id": "d6cdcede",
   "metadata": {},
   "outputs": [],
   "source": [
    "import pandas as pd\n",
    "import numpy as np \n",
    "from matplotlib import pyplot as plt\n",
    "\n",
    "\n",
    "%matplotlib inline"
   ]
  },
  {
   "cell_type": "code",
   "execution_count": 3,
   "id": "7291a3df",
   "metadata": {},
   "outputs": [
    {
     "data": {
      "text/html": [
       "<div>\n",
       "<style scoped>\n",
       "    .dataframe tbody tr th:only-of-type {\n",
       "        vertical-align: middle;\n",
       "    }\n",
       "\n",
       "    .dataframe tbody tr th {\n",
       "        vertical-align: top;\n",
       "    }\n",
       "\n",
       "    .dataframe thead th {\n",
       "        text-align: right;\n",
       "    }\n",
       "</style>\n",
       "<table border=\"1\" class=\"dataframe\">\n",
       "  <thead>\n",
       "    <tr style=\"text-align: right;\">\n",
       "      <th></th>\n",
       "      <th>Millas</th>\n",
       "    </tr>\n",
       "    <tr>\n",
       "      <th>Rio</th>\n",
       "      <th></th>\n",
       "    </tr>\n",
       "  </thead>\n",
       "  <tbody>\n",
       "    <tr>\n",
       "      <th>1</th>\n",
       "      <td>735</td>\n",
       "    </tr>\n",
       "    <tr>\n",
       "      <th>2</th>\n",
       "      <td>320</td>\n",
       "    </tr>\n",
       "    <tr>\n",
       "      <th>3</th>\n",
       "      <td>325</td>\n",
       "    </tr>\n",
       "    <tr>\n",
       "      <th>4</th>\n",
       "      <td>392</td>\n",
       "    </tr>\n",
       "    <tr>\n",
       "      <th>5</th>\n",
       "      <td>524</td>\n",
       "    </tr>\n",
       "    <tr>\n",
       "      <th>...</th>\n",
       "      <td>...</td>\n",
       "    </tr>\n",
       "    <tr>\n",
       "      <th>137</th>\n",
       "      <td>720</td>\n",
       "    </tr>\n",
       "    <tr>\n",
       "      <th>138</th>\n",
       "      <td>270</td>\n",
       "    </tr>\n",
       "    <tr>\n",
       "      <th>139</th>\n",
       "      <td>430</td>\n",
       "    </tr>\n",
       "    <tr>\n",
       "      <th>140</th>\n",
       "      <td>671</td>\n",
       "    </tr>\n",
       "    <tr>\n",
       "      <th>141</th>\n",
       "      <td>1770</td>\n",
       "    </tr>\n",
       "  </tbody>\n",
       "</table>\n",
       "<p>141 rows × 1 columns</p>\n",
       "</div>"
      ],
      "text/plain": [
       "     Millas\n",
       "Rio        \n",
       "1       735\n",
       "2       320\n",
       "3       325\n",
       "4       392\n",
       "5       524\n",
       "..      ...\n",
       "137     720\n",
       "138     270\n",
       "139     430\n",
       "140     671\n",
       "141    1770\n",
       "\n",
       "[141 rows x 1 columns]"
      ]
     },
     "execution_count": 3,
     "metadata": {},
     "output_type": "execute_result"
    }
   ],
   "source": [
    "Rios=pd.read_csv(\"/Users/juanalbertomartinez/Desktop/RCH/Detec_outliers/Rios.csv\", \n",
    "                engine=\"python\", index_col=0)\n",
    "\n",
    "Rios"
   ]
  },
  {
   "cell_type": "markdown",
   "id": "27617830",
   "metadata": {},
   "source": [
    "Obtenemos el histograma para ver como están distribuidos los valores"
   ]
  },
  {
   "cell_type": "code",
   "execution_count": 4,
   "id": "6adaca62",
   "metadata": {},
   "outputs": [
    {
     "data": {
      "image/png": "[encoded data removed]",
      "text/plain": [
       "<Figure size 432x288 with 1 Axes>"
      ]
     },
     "metadata": {
      "needs_background": "light"
     },
     "output_type": "display_data"
    }
   ],
   "source": [
    "plt.title(\"Rios\")\n",
    "plt.hist(Rios[\"Millas\"], edgecolor=\"black\", linewidth=1)\n",
    "plt.show() # con la función show evitamos que se despliege el resultado en forma de texto"
   ]
  },
  {
   "cell_type": "markdown",
   "id": "d75f66d5",
   "metadata": {},
   "source": [
    "Hacemos un gráfico de caja y bigotes para ver los outliers"
   ]
  },
  {
   "cell_type": "code",
   "execution_count": 5,
   "id": "2a588937",
   "metadata": {},
   "outputs": [
    {
     "data": {
      "image/png": "[encoded data removed]",
      "text/plain": [
       "<Figure size 432x288 with 1 Axes>"
      ]
     },
     "metadata": {
      "needs_background": "light"
     },
     "output_type": "display_data"
    }
   ],
   "source": [
    "plt.boxplot(Rios[\"Millas\"], vert=False)\n",
    "plt.show()"
   ]
  },
  {
   "cell_type": "code",
   "execution_count": 7,
   "id": "03d273df",
   "metadata": {},
   "outputs": [
    {
     "name": "stdout",
     "output_type": "stream",
     "text": [
      "Primer quartil 310.0\n",
      "Primer quartil 680.0\n",
      "Rango interquartil 370.0\n",
      "Mediana 425.0\n",
      "Valor mínimo 135\n",
      "Valor máximo 3710\n"
     ]
    }
   ],
   "source": [
    "Q1 = Rios[\"Millas\"].quantile(0.25)\n",
    "print(\"Primer quartil\", Q1)\n",
    "\n",
    "Q3 = Rios[\"Millas\"].quantile(0.75)\n",
    "print(\"Primer quartil\", Q3)\n",
    "\n",
    "IQR = Q3 - Q1\n",
    "print(\"Rango interquartil\", IQR)\n",
    "\n",
    "Mediana = Rios[\"Millas\"].median()\n",
    "print(\"Mediana\", Mediana)\n",
    "\n",
    "Valor_min = Rios[\"Millas\"].min()\n",
    "print(\"Valor mínimo\", Valor_min)\n",
    "\n",
    "Valor_max = Rios[\"Millas\"].max()\n",
    "print(\"Valor máximo\", Valor_max)\n"
   ]
  },
  {
   "cell_type": "markdown",
   "id": "aefe7ba1",
   "metadata": {},
   "source": [
    "Calcular los valores de los bigotes inferior y superior"
   ]
  },
  {
   "cell_type": "code",
   "execution_count": 9,
   "id": "4bfc7f83",
   "metadata": {},
   "outputs": [
    {
     "name": "stdout",
     "output_type": "stream",
     "text": [
      "Bigote inferior calculado \n",
      " -245.0\n",
      "Bigote superior \n",
      " 1235.0\n"
     ]
    }
   ],
   "source": [
    "BI_cal = (Q1 - 1.5 * IQR)\n",
    "print(\"Bigote inferior calculado \\n\", BI_cal)\n",
    "\n",
    "BS_cal = (Q3 + 1.5 * IQR)\n",
    "print(\"Bigote superior \\n\", BS_cal)"
   ]
  },
  {
   "cell_type": "markdown",
   "id": "0d5f6849",
   "metadata": {},
   "source": [
    "### Ubicación de los outliers"
   ]
  },
  {
   "cell_type": "markdown",
   "id": "f24c18e1",
   "metadata": {},
   "source": [
    "Ubicamos las filas en las que se encuentran los outliers"
   ]
  },
  {
   "cell_type": "code",
   "execution_count": 10,
   "id": "9c6490c8",
   "metadata": {},
   "outputs": [
    {
     "name": "stdout",
     "output_type": "stream",
     "text": [
      "\n",
      " Ubicación de Outliers \n",
      " Rio\n",
      "1      False\n",
      "2      False\n",
      "3      False\n",
      "4      False\n",
      "5      False\n",
      "       ...  \n",
      "137    False\n",
      "138    False\n",
      "139    False\n",
      "140    False\n",
      "141     True\n",
      "Name: Millas, Length: 141, dtype: bool\n"
     ]
    }
   ],
   "source": [
    "ubicacion_outliers = (Rios[\"Millas\"] < BI_cal) | (Rios[\"Millas\"] > BS_cal)\n",
    "print(\"\\n Ubicación de Outliers \\n\", ubicacion_outliers)"
   ]
  },
  {
   "cell_type": "markdown",
   "id": "d43d3619",
   "metadata": {},
   "source": [
    "Obtenemos los valores de los outliers"
   ]
  },
  {
   "cell_type": "code",
   "execution_count": 11,
   "id": "9035cb2e",
   "metadata": {},
   "outputs": [
    {
     "name": "stdout",
     "output_type": "stream",
     "text": [
      "\n",
      " Lista de Outliers \n",
      "      Millas\n",
      "Rio        \n",
      "7      1459\n",
      "23     1450\n",
      "25     1243\n",
      "66     2348\n",
      "68     3710\n",
      "69     2315\n",
      "70     2533\n",
      "83     1306\n",
      "98     1270\n",
      "101    1885\n",
      "141    1770\n"
     ]
    }
   ],
   "source": [
    "outliers = Rios[ubicacion_outliers]\n",
    "print(\"\\n Lista de Outliers \\n\", outliers)"
   ]
  },
  {
   "cell_type": "markdown",
   "id": "0dec8cb3",
   "metadata": {},
   "source": [
    "Ordenar los outliers"
   ]
  },
  {
   "cell_type": "code",
   "execution_count": 12,
   "id": "9fe4a750",
   "metadata": {},
   "outputs": [
    {
     "data": {
      "text/html": [
       "<div>\n",
       "<style scoped>\n",
       "    .dataframe tbody tr th:only-of-type {\n",
       "        vertical-align: middle;\n",
       "    }\n",
       "\n",
       "    .dataframe tbody tr th {\n",
       "        vertical-align: top;\n",
       "    }\n",
       "\n",
       "    .dataframe thead th {\n",
       "        text-align: right;\n",
       "    }\n",
       "</style>\n",
       "<table border=\"1\" class=\"dataframe\">\n",
       "  <thead>\n",
       "    <tr style=\"text-align: right;\">\n",
       "      <th></th>\n",
       "      <th>Millas</th>\n",
       "    </tr>\n",
       "    <tr>\n",
       "      <th>Rio</th>\n",
       "      <th></th>\n",
       "    </tr>\n",
       "  </thead>\n",
       "  <tbody>\n",
       "    <tr>\n",
       "      <th>25</th>\n",
       "      <td>1243</td>\n",
       "    </tr>\n",
       "    <tr>\n",
       "      <th>98</th>\n",
       "      <td>1270</td>\n",
       "    </tr>\n",
       "    <tr>\n",
       "      <th>83</th>\n",
       "      <td>1306</td>\n",
       "    </tr>\n",
       "    <tr>\n",
       "      <th>23</th>\n",
       "      <td>1450</td>\n",
       "    </tr>\n",
       "    <tr>\n",
       "      <th>7</th>\n",
       "      <td>1459</td>\n",
       "    </tr>\n",
       "    <tr>\n",
       "      <th>141</th>\n",
       "      <td>1770</td>\n",
       "    </tr>\n",
       "    <tr>\n",
       "      <th>101</th>\n",
       "      <td>1885</td>\n",
       "    </tr>\n",
       "    <tr>\n",
       "      <th>69</th>\n",
       "      <td>2315</td>\n",
       "    </tr>\n",
       "    <tr>\n",
       "      <th>66</th>\n",
       "      <td>2348</td>\n",
       "    </tr>\n",
       "    <tr>\n",
       "      <th>70</th>\n",
       "      <td>2533</td>\n",
       "    </tr>\n",
       "    <tr>\n",
       "      <th>68</th>\n",
       "      <td>3710</td>\n",
       "    </tr>\n",
       "  </tbody>\n",
       "</table>\n",
       "</div>"
      ],
      "text/plain": [
       "     Millas\n",
       "Rio        \n",
       "25     1243\n",
       "98     1270\n",
       "83     1306\n",
       "23     1450\n",
       "7      1459\n",
       "141    1770\n",
       "101    1885\n",
       "69     2315\n",
       "66     2348\n",
       "70     2533\n",
       "68     3710"
      ]
     },
     "execution_count": 12,
     "metadata": {},
     "output_type": "execute_result"
    }
   ],
   "source": [
    "outliers_ordenados = outliers.sort_values(\"Millas\")\n",
    "outliers_ordenados"
   ]
  },
  {
   "cell_type": "markdown",
   "id": "ca556475",
   "metadata": {},
   "source": [
    "Nos quedamos solo con los valores que no son outliers"
   ]
  },
  {
   "cell_type": "code",
   "execution_count": 13,
   "id": "03fc8daa",
   "metadata": {},
   "outputs": [
    {
     "data": {
      "text/html": [
       "<div>\n",
       "<style scoped>\n",
       "    .dataframe tbody tr th:only-of-type {\n",
       "        vertical-align: middle;\n",
       "    }\n",
       "\n",
       "    .dataframe tbody tr th {\n",
       "        vertical-align: top;\n",
       "    }\n",
       "\n",
       "    .dataframe thead th {\n",
       "        text-align: right;\n",
       "    }\n",
       "</style>\n",
       "<table border=\"1\" class=\"dataframe\">\n",
       "  <thead>\n",
       "    <tr style=\"text-align: right;\">\n",
       "      <th></th>\n",
       "      <th>Millas</th>\n",
       "    </tr>\n",
       "    <tr>\n",
       "      <th>Rio</th>\n",
       "      <th></th>\n",
       "    </tr>\n",
       "  </thead>\n",
       "  <tbody>\n",
       "    <tr>\n",
       "      <th>1</th>\n",
       "      <td>735</td>\n",
       "    </tr>\n",
       "    <tr>\n",
       "      <th>2</th>\n",
       "      <td>320</td>\n",
       "    </tr>\n",
       "    <tr>\n",
       "      <th>3</th>\n",
       "      <td>325</td>\n",
       "    </tr>\n",
       "    <tr>\n",
       "      <th>4</th>\n",
       "      <td>392</td>\n",
       "    </tr>\n",
       "    <tr>\n",
       "      <th>5</th>\n",
       "      <td>524</td>\n",
       "    </tr>\n",
       "    <tr>\n",
       "      <th>...</th>\n",
       "      <td>...</td>\n",
       "    </tr>\n",
       "    <tr>\n",
       "      <th>136</th>\n",
       "      <td>500</td>\n",
       "    </tr>\n",
       "    <tr>\n",
       "      <th>137</th>\n",
       "      <td>720</td>\n",
       "    </tr>\n",
       "    <tr>\n",
       "      <th>138</th>\n",
       "      <td>270</td>\n",
       "    </tr>\n",
       "    <tr>\n",
       "      <th>139</th>\n",
       "      <td>430</td>\n",
       "    </tr>\n",
       "    <tr>\n",
       "      <th>140</th>\n",
       "      <td>671</td>\n",
       "    </tr>\n",
       "  </tbody>\n",
       "</table>\n",
       "<p>130 rows × 1 columns</p>\n",
       "</div>"
      ],
      "text/plain": [
       "     Millas\n",
       "Rio        \n",
       "1       735\n",
       "2       320\n",
       "3       325\n",
       "4       392\n",
       "5       524\n",
       "..      ...\n",
       "136     500\n",
       "137     720\n",
       "138     270\n",
       "139     430\n",
       "140     671\n",
       "\n",
       "[130 rows x 1 columns]"
      ]
     },
     "execution_count": 13,
     "metadata": {},
     "output_type": "execute_result"
    }
   ],
   "source": [
    "ubicacion_sin_outliers = (Rios[\"Millas\"] >= BI_cal) & (Rios[\"Millas\"] <= BS_cal)\n",
    "sin_outliers = Rios[ubicacion_sin_outliers]\n",
    "sin_outliers"
   ]
  },
  {
   "cell_type": "markdown",
   "id": "0d5d6ffb",
   "metadata": {},
   "source": [
    "Hacer un gráfico de caja y bigotes para ver si el objeto \"sin_outliers\" no contiene outliers"
   ]
  },
  {
   "cell_type": "code",
   "execution_count": 14,
   "id": "908fb1f3",
   "metadata": {},
   "outputs": [
    {
     "data": {
      "image/png": "[encoded data removed]",
      "text/plain": [
       "<Figure size 432x288 with 1 Axes>"
      ]
     },
     "metadata": {
      "needs_background": "light"
     },
     "output_type": "display_data"
    }
   ],
   "source": [
    "plt.title(\"sin_outliers\")\n",
    "plt.boxplot(sin_outliers[\"Millas\"], vert=False)\n",
    "plt.show()"
   ]
  },
  {
   "cell_type": "code",
   "execution_count": null,
   "id": "5de872b9",
   "metadata": {},
   "outputs": [],
   "source": []
  }
 ],
 "metadata": {
  "kernelspec": {
   "display_name": "Python 3 (ipykernel)",
   "language": "python",
   "name": "python3"
  },
  "language_info": {
   "codemirror_mode": {
    "name": "ipython",
    "version": 3
   },
   "file_extension": ".py",
   "mimetype": "text/x-python",
   "name": "python",
   "nbconvert_exporter": "python",
   "pygments_lexer": "ipython3",
   "version": "3.9.6"
  }
 },
 "nbformat": 4,
 "nbformat_minor": 5
}
